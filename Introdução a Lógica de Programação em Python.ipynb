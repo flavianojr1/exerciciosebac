{
  "nbformat": 4,
  "nbformat_minor": 0,
  "metadata": {
    "colab": {
      "provenance": [],
      "authorship_tag": "ABX9TyN2qq0uR6ZbCfFIpEHFgYEL",
      "include_colab_link": true
    },
    "kernelspec": {
      "name": "python3",
      "display_name": "Python 3"
    },
    "language_info": {
      "name": "python"
    }
  },
  "cells": [
    {
      "cell_type": "markdown",
      "metadata": {
        "id": "view-in-github",
        "colab_type": "text"
      },
      "source": [
        "<a href=\"https://colab.research.google.com/github/flavianojr1/exerciciosebac/blob/main/Introdu%C3%A7%C3%A3o%20a%20L%C3%B3gica%20de%20Programa%C3%A7%C3%A3o%20em%20Python.ipynb\" target=\"_parent\"><img src=\"https://colab.research.google.com/assets/colab-badge.svg\" alt=\"Open In Colab\"/></a>"
      ]
    },
    {
      "cell_type": "markdown",
      "source": [
        "# Pratique"
      ],
      "metadata": {
        "id": "Em1e9wkmyq0V"
      }
    },
    {
      "cell_type": "markdown",
      "source": [
        "## Utilize o comando 'input' para receber ao menos 2 números de entrada do usuário"
      ],
      "metadata": {
        "id": "-MbPUekPzZAG"
      }
    },
    {
      "cell_type": "code",
      "source": [
        "numero1 = int(input(\"Digite o primeiro numero: \"))\n",
        "numero2 = int(input(\"Digite o segundo numero: \"))\n",
        "\n",
        "print(f'O primeiro numero digitado é ', numero1, ' e o segundo numero é ', numero2)"
      ],
      "metadata": {
        "colab": {
          "base_uri": "https://localhost:8080/"
        },
        "id": "fcRd_B4zzTeJ",
        "outputId": "7cf86cba-41bd-4020-f711-388a72a5d94a"
      },
      "execution_count": 4,
      "outputs": [
        {
          "output_type": "stream",
          "name": "stdout",
          "text": [
            "Digite o primeiro numero: 10\n",
            "Digite o segundo numero: 20\n",
            "O primeiro numero digitado é  10  e o segundo numero é  20\n"
          ]
        }
      ]
    },
    {
      "cell_type": "markdown",
      "source": [
        "## Converta os valores recebidos pelo usuário para número inteiro (int) ou ponto flutuante (float);"
      ],
      "metadata": {
        "id": "YZBryZd6ziEE"
      }
    },
    {
      "cell_type": "code",
      "source": [
        "numero1_float = float(numero1)\n",
        "numero2_float = float(numero2)\n",
        "\n",
        "print(f'O tipo do numero 1 é ', type(numero1_float), ' e o tipo do numero 2 é ', type(numero2_float))"
      ],
      "metadata": {
        "colab": {
          "base_uri": "https://localhost:8080/"
        },
        "id": "7zneJ2UWzlu2",
        "outputId": "40afc549-f131-4fd0-df4f-23b26861c8a8"
      },
      "execution_count": 6,
      "outputs": [
        {
          "output_type": "stream",
          "name": "stdout",
          "text": [
            "O tipo do numero 1 é  <class 'float'>  e o tipo do numero 2 é  <class 'float'>\n"
          ]
        }
      ]
    },
    {
      "cell_type": "markdown",
      "source": [
        "## Implemente ao menos 4 operações matemáticas em seu código;\n",
        "\n"
      ],
      "metadata": {
        "id": "iIqfVw6zz9LE"
      }
    },
    {
      "cell_type": "code",
      "source": [
        "soma = numero1_float + numero2_float\n",
        "divisao = numero1_float / numero2_float\n",
        "subtracao = numero1_float - numero2_float\n",
        "multiplicacao = numero1_float * numero2_float\n",
        "\n",
        "print(f'A soma é ', soma, ' a divisao é ', divisao, ' a subtracao é ', subtracao, ' a multiplicacao é ', multiplicacao)"
      ],
      "metadata": {
        "colab": {
          "base_uri": "https://localhost:8080/"
        },
        "id": "JUjQZJhY0AV4",
        "outputId": "3018d065-f5c1-4100-8940-374b53ad7b49"
      },
      "execution_count": 7,
      "outputs": [
        {
          "output_type": "stream",
          "name": "stdout",
          "text": [
            "A soma é  30.0  a divisao é  0.5  a subtracao é  -10.0  a multiplicacao é  200.0\n"
          ]
        }
      ]
    },
    {
      "cell_type": "markdown",
      "source": [
        "## Adicione um laço de repetição ou uma condicional. Por exemplo: você pode permitir que o usuário escolha qual operação realizar ou criar um loop que permita ao usuário realizar várias operações consecutivas;\n",
        "\n"
      ],
      "metadata": {
        "id": "c8F77d2S0YF1"
      }
    },
    {
      "cell_type": "code",
      "source": [
        "numero1 = float(input(\"Digite o primeiro numero: \"))\n",
        "numero2 = float(input(\"Digite o segundo numero: \"))\n",
        "operacao = str(input('Digite a operação que deseja realizar: '))\n",
        "\n",
        "if operacao == 'soma':\n",
        "  resultado_operacao = numero1 + numero2\n",
        "elif operacao == 'subtracao':\n",
        "  resultado_operacao = numero1 - numero2\n",
        "elif operacao == 'multiplicacao':\n",
        "  resultado_operacao = numero1 * numero2\n",
        "elif operacao == 'divisao':\n",
        "  resultado_operacao = numero1 / numero2\n",
        "else:\n",
        "  print('Operacao invalida')"
      ],
      "metadata": {
        "colab": {
          "base_uri": "https://localhost:8080/"
        },
        "id": "ELhMeeVv0aCI",
        "outputId": "4eb03b53-aad9-4935-a2df-d51a67572af5"
      },
      "execution_count": 9,
      "outputs": [
        {
          "output_type": "stream",
          "name": "stdout",
          "text": [
            "Digite o primeiro numero: 10\n",
            "Digite o segundo numero: 10\n",
            "Digite a operação que deseja realizar: soma\n",
            "20.0\n"
          ]
        }
      ]
    },
    {
      "cell_type": "markdown",
      "source": [
        "## Utilize o comando 'print' para exibir o resultado da operação matemática.\n",
        "\n"
      ],
      "metadata": {
        "id": "6BKWSYnD1YKA"
      }
    },
    {
      "cell_type": "code",
      "source": [
        "print(f'O resultado da operação de', operacao, 'é: ', resultado_operacao)"
      ],
      "metadata": {
        "colab": {
          "base_uri": "https://localhost:8080/"
        },
        "id": "5lPP__jY1a37",
        "outputId": "11f7e63d-f407-4d6f-c0dd-76e40e7f0923"
      },
      "execution_count": 12,
      "outputs": [
        {
          "output_type": "stream",
          "name": "stdout",
          "text": [
            "O resultado da operação de soma é:  20.0\n"
          ]
        }
      ]
    }
  ]
}